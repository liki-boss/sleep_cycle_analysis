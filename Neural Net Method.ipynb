{
 "cells": [
  {
   "cell_type": "code",
   "execution_count": 1,
   "id": "13fcb715",
   "metadata": {
    "execution": {
     "iopub.execute_input": "2023-12-06T01:24:07.499570Z",
     "iopub.status.busy": "2023-12-06T01:24:07.499187Z",
     "iopub.status.idle": "2023-12-06T01:24:20.508603Z",
     "shell.execute_reply": "2023-12-06T01:24:20.507605Z"
    },
    "papermill": {
     "duration": 13.016927,
     "end_time": "2023-12-06T01:24:20.511173",
     "exception": false,
     "start_time": "2023-12-06T01:24:07.494246",
     "status": "completed"
    },
    "tags": []
   },
   "outputs": [
    {
     "name": "stderr",
     "output_type": "stream",
     "text": [
      "/opt/conda/lib/python3.10/site-packages/scipy/__init__.py:146: UserWarning: A NumPy version >=1.16.5 and <1.23.0 is required for this version of SciPy (detected version 1.24.3\n",
      "  warnings.warn(f\"A NumPy version >={np_minversion} and <{np_maxversion}\"\n"
     ]
    }
   ],
   "source": [
    "import numpy as np\n",
    "import pandas as pd\n",
    "from itertools import groupby\n",
    "import gc\n",
    "import tensorflow as tf\n",
    "from tensorflow.keras.models import Sequential\n",
    "from tensorflow.keras.layers import Dense, Dropout\n",
    "from sklearn.model_selection import train_test_split"
   ]
  },
  {
   "cell_type": "code",
   "execution_count": 2,
   "id": "af07669f",
   "metadata": {
    "execution": {
     "iopub.execute_input": "2023-12-06T01:24:20.519931Z",
     "iopub.status.busy": "2023-12-06T01:24:20.519317Z",
     "iopub.status.idle": "2023-12-06T01:24:28.161240Z",
     "shell.execute_reply": "2023-12-06T01:24:28.160279Z"
    },
    "papermill": {
     "duration": 7.648567,
     "end_time": "2023-12-06T01:24:28.163608",
     "exception": false,
     "start_time": "2023-12-06T01:24:20.515041",
     "status": "completed"
    },
    "tags": []
   },
   "outputs": [],
   "source": [
    "train = pd.read_parquet(\"/kaggle/input/zzzzzz/Zzzs_train.parquet\")"
   ]
  },
  {
   "cell_type": "code",
   "execution_count": 3,
   "id": "3dbd318c",
   "metadata": {
    "execution": {
     "iopub.execute_input": "2023-12-06T01:24:28.171375Z",
     "iopub.status.busy": "2023-12-06T01:24:28.171030Z",
     "iopub.status.idle": "2023-12-06T01:24:28.187046Z",
     "shell.execute_reply": "2023-12-06T01:24:28.186165Z"
    },
    "papermill": {
     "duration": 0.022234,
     "end_time": "2023-12-06T01:24:28.189172",
     "exception": false,
     "start_time": "2023-12-06T01:24:28.166938",
     "status": "completed"
    },
    "tags": []
   },
   "outputs": [],
   "source": [
    "def make_features(df):\n",
    "    # parse the timestamp and create an \"hour\" feature\n",
    "    df['timestamp'] = pd.to_datetime(df['timestamp']).apply(lambda t: t.tz_localize(None))\n",
    "    df[\"hour\"] = df[\"timestamp\"].dt.hour\n",
    "    \n",
    "    periods = 20\n",
    "    df[\"anglez\"] = abs(df[\"anglez\"])\n",
    "    df[\"anglez_diff\"] = df.groupby('series_id')['anglez'].diff(periods=periods).fillna(method=\"bfill\").astype('float16')\n",
    "    df[\"enmo_diff\"] = df.groupby('series_id')['enmo'].diff(periods=periods).fillna(method=\"bfill\").astype('float16')\n",
    "    df[\"anglez_rolling_mean\"] = df[\"anglez\"].rolling(periods,center=True).mean().fillna(method=\"bfill\").fillna(method=\"ffill\").astype('float16')\n",
    "    df[\"enmo_rolling_mean\"] = df[\"enmo\"].rolling(periods,center=True).mean().fillna(method=\"bfill\").fillna(method=\"ffill\").astype('float16')\n",
    "    df[\"anglez_rolling_max\"] = df[\"anglez\"].rolling(periods,center=True).max().fillna(method=\"bfill\").fillna(method=\"ffill\").astype('float16')\n",
    "    df[\"enmo_rolling_max\"] = df[\"enmo\"].rolling(periods,center=True).max().fillna(method=\"bfill\").fillna(method=\"ffill\").astype('float16')\n",
    "    df[\"anglez_rolling_std\"] = df[\"anglez\"].rolling(periods,center=True).std().fillna(method=\"bfill\").fillna(method=\"ffill\").astype('float16')\n",
    "    df[\"enmo_rolling_std\"] = df[\"enmo\"].rolling(periods,center=True).std().fillna(method=\"bfill\").fillna(method=\"ffill\").astype('float16')\n",
    "    df[\"anglez_diff_rolling_mean\"] = df[\"anglez_diff\"].rolling(periods,center=True).mean().fillna(method=\"bfill\").fillna(method=\"ffill\").astype('float16')\n",
    "    df[\"enmo_diff_rolling_mean\"] = df[\"enmo_diff\"].rolling(periods,center=True).mean().fillna(method=\"bfill\").fillna(method=\"ffill\").astype('float16')\n",
    "    df[\"anglez_diff_rolling_max\"] = df[\"anglez_diff\"].rolling(periods,center=True).max().fillna(method=\"bfill\").fillna(method=\"ffill\").astype('float16')\n",
    "    df[\"enmo_diff_rolling_max\"] = df[\"enmo_diff\"].rolling(periods,center=True).max().fillna(method=\"bfill\").fillna(method=\"ffill\").astype('float16')\n",
    "    \n",
    "    return df\n",
    "\n",
    "features = [\"hour\",\n",
    "            \"anglez\",\n",
    "            \"anglez_rolling_mean\",\n",
    "            \"anglez_rolling_max\",\n",
    "            \"anglez_rolling_std\",\n",
    "            \"anglez_diff\",\n",
    "            \"anglez_diff_rolling_mean\",\n",
    "            \"anglez_diff_rolling_max\",\n",
    "            \"enmo\",\n",
    "            \"enmo_rolling_mean\",\n",
    "            \"enmo_rolling_max\",\n",
    "            \"enmo_rolling_std\",\n",
    "            \"enmo_diff\",\n",
    "            \"enmo_diff_rolling_mean\",\n",
    "            \"enmo_diff_rolling_max\",\n",
    "           ]"
   ]
  },
  {
   "cell_type": "code",
   "execution_count": 4,
   "id": "2a35cbc7",
   "metadata": {
    "execution": {
     "iopub.execute_input": "2023-12-06T01:24:28.196779Z",
     "iopub.status.busy": "2023-12-06T01:24:28.196426Z",
     "iopub.status.idle": "2023-12-06T01:29:06.172788Z",
     "shell.execute_reply": "2023-12-06T01:29:06.171971Z"
    },
    "papermill": {
     "duration": 277.982656,
     "end_time": "2023-12-06T01:29:06.175080",
     "exception": false,
     "start_time": "2023-12-06T01:24:28.192424",
     "status": "completed"
    },
    "tags": []
   },
   "outputs": [
    {
     "name": "stderr",
     "output_type": "stream",
     "text": [
      "/tmp/ipykernel_27/3676500284.py:3: FutureWarning: In a future version of pandas, parsing datetimes with mixed time zones will raise an error unless `utc=True`. Please specify `utc=True` to opt in to the new behaviour and silence this warning. To create a `Series` with mixed offsets and `object` dtype, please use `apply` and `datetime.datetime.strptime`\n",
      "  df['timestamp'] = pd.to_datetime(df['timestamp']).apply(lambda t: t.tz_localize(None))\n",
      "/tmp/ipykernel_27/3676500284.py:8: FutureWarning: Series.fillna with 'method' is deprecated and will raise in a future version. Use obj.ffill() or obj.bfill() instead.\n",
      "  df[\"anglez_diff\"] = df.groupby('series_id')['anglez'].diff(periods=periods).fillna(method=\"bfill\").astype('float16')\n",
      "/tmp/ipykernel_27/3676500284.py:9: FutureWarning: Series.fillna with 'method' is deprecated and will raise in a future version. Use obj.ffill() or obj.bfill() instead.\n",
      "  df[\"enmo_diff\"] = df.groupby('series_id')['enmo'].diff(periods=periods).fillna(method=\"bfill\").astype('float16')\n",
      "/tmp/ipykernel_27/3676500284.py:10: FutureWarning: Series.fillna with 'method' is deprecated and will raise in a future version. Use obj.ffill() or obj.bfill() instead.\n",
      "  df[\"anglez_rolling_mean\"] = df[\"anglez\"].rolling(periods,center=True).mean().fillna(method=\"bfill\").fillna(method=\"ffill\").astype('float16')\n",
      "/tmp/ipykernel_27/3676500284.py:11: FutureWarning: Series.fillna with 'method' is deprecated and will raise in a future version. Use obj.ffill() or obj.bfill() instead.\n",
      "  df[\"enmo_rolling_mean\"] = df[\"enmo\"].rolling(periods,center=True).mean().fillna(method=\"bfill\").fillna(method=\"ffill\").astype('float16')\n",
      "/tmp/ipykernel_27/3676500284.py:12: FutureWarning: Series.fillna with 'method' is deprecated and will raise in a future version. Use obj.ffill() or obj.bfill() instead.\n",
      "  df[\"anglez_rolling_max\"] = df[\"anglez\"].rolling(periods,center=True).max().fillna(method=\"bfill\").fillna(method=\"ffill\").astype('float16')\n",
      "/tmp/ipykernel_27/3676500284.py:13: FutureWarning: Series.fillna with 'method' is deprecated and will raise in a future version. Use obj.ffill() or obj.bfill() instead.\n",
      "  df[\"enmo_rolling_max\"] = df[\"enmo\"].rolling(periods,center=True).max().fillna(method=\"bfill\").fillna(method=\"ffill\").astype('float16')\n",
      "/tmp/ipykernel_27/3676500284.py:14: FutureWarning: Series.fillna with 'method' is deprecated and will raise in a future version. Use obj.ffill() or obj.bfill() instead.\n",
      "  df[\"anglez_rolling_std\"] = df[\"anglez\"].rolling(periods,center=True).std().fillna(method=\"bfill\").fillna(method=\"ffill\").astype('float16')\n",
      "/tmp/ipykernel_27/3676500284.py:15: FutureWarning: Series.fillna with 'method' is deprecated and will raise in a future version. Use obj.ffill() or obj.bfill() instead.\n",
      "  df[\"enmo_rolling_std\"] = df[\"enmo\"].rolling(periods,center=True).std().fillna(method=\"bfill\").fillna(method=\"ffill\").astype('float16')\n",
      "/tmp/ipykernel_27/3676500284.py:16: FutureWarning: Series.fillna with 'method' is deprecated and will raise in a future version. Use obj.ffill() or obj.bfill() instead.\n",
      "  df[\"anglez_diff_rolling_mean\"] = df[\"anglez_diff\"].rolling(periods,center=True).mean().fillna(method=\"bfill\").fillna(method=\"ffill\").astype('float16')\n",
      "/tmp/ipykernel_27/3676500284.py:17: FutureWarning: Series.fillna with 'method' is deprecated and will raise in a future version. Use obj.ffill() or obj.bfill() instead.\n",
      "  df[\"enmo_diff_rolling_mean\"] = df[\"enmo_diff\"].rolling(periods,center=True).mean().fillna(method=\"bfill\").fillna(method=\"ffill\").astype('float16')\n",
      "/tmp/ipykernel_27/3676500284.py:18: FutureWarning: Series.fillna with 'method' is deprecated and will raise in a future version. Use obj.ffill() or obj.bfill() instead.\n",
      "  df[\"anglez_diff_rolling_max\"] = df[\"anglez_diff\"].rolling(periods,center=True).max().fillna(method=\"bfill\").fillna(method=\"ffill\").astype('float16')\n",
      "/tmp/ipykernel_27/3676500284.py:19: FutureWarning: Series.fillna with 'method' is deprecated and will raise in a future version. Use obj.ffill() or obj.bfill() instead.\n",
      "  df[\"enmo_diff_rolling_max\"] = df[\"enmo_diff\"].rolling(periods,center=True).max().fillna(method=\"bfill\").fillna(method=\"ffill\").astype('float16')\n"
     ]
    }
   ],
   "source": [
    "train   = make_features(train)\n",
    "\n",
    "X = train[features]\n",
    "y = train[\"awake\"]\n",
    "\n",
    "X_train, X_test, y_train, y_test = train_test_split(X, y, test_size=0.2, random_state=None)"
   ]
  },
  {
   "cell_type": "code",
   "execution_count": 5,
   "id": "9f60acee",
   "metadata": {
    "execution": {
     "iopub.execute_input": "2023-12-06T01:29:06.185756Z",
     "iopub.status.busy": "2023-12-06T01:29:06.184975Z",
     "iopub.status.idle": "2023-12-06T01:52:22.538698Z",
     "shell.execute_reply": "2023-12-06T01:52:22.537779Z"
    },
    "papermill": {
     "duration": 1398.177148,
     "end_time": "2023-12-06T01:52:24.356673",
     "exception": false,
     "start_time": "2023-12-06T01:29:06.179525",
     "status": "completed"
    },
    "tags": []
   },
   "outputs": [
    {
     "name": "stdout",
     "output_type": "stream",
     "text": [
      "Default GPU Device: /device:GPU:0\n",
      "Epoch 1/3\n",
      "115199/115199 [==============================] - ETA: 0s - loss: 0.1879 - accuracy: 0.9315\n",
      "Epoch 1: val_loss improved from inf to 0.16038, saving model to best_model.h5\n",
      "115199/115199 [==============================] - 466s 4ms/step - loss: 0.1879 - accuracy: 0.9315 - val_loss: 0.1604 - val_accuracy: 0.9447\n",
      "Epoch 2/3\n",
      "    44/115199 [..............................] - ETA: 6:59 - loss: 0.1679 - accuracy: 0.9414"
     ]
    },
    {
     "name": "stderr",
     "output_type": "stream",
     "text": [
      "/opt/conda/lib/python3.10/site-packages/keras/src/engine/training.py:3000: UserWarning: You are saving your model as an HDF5 file via `model.save()`. This file format is considered legacy. We recommend using instead the native Keras format, e.g. `model.save('my_model.keras')`.\n",
      "  saving_api.save_model(\n"
     ]
    },
    {
     "name": "stdout",
     "output_type": "stream",
     "text": [
      "115194/115199 [============================>.] - ETA: 0s - loss: 0.1669 - accuracy: 0.9392\n",
      "Epoch 2: val_loss improved from 0.16038 to 0.15743, saving model to best_model.h5\n",
      "115199/115199 [==============================] - 462s 4ms/step - loss: 0.1669 - accuracy: 0.9392 - val_loss: 0.1574 - val_accuracy: 0.9468\n",
      "Epoch 3/3\n",
      "115194/115199 [============================>.] - ETA: 0s - loss: 0.1621 - accuracy: 0.9413\n",
      "Epoch 3: val_loss improved from 0.15743 to 0.14690, saving model to best_model.h5\n",
      "115199/115199 [==============================] - 463s 4ms/step - loss: 0.1621 - accuracy: 0.9413 - val_loss: 0.1469 - val_accuracy: 0.9491\n"
     ]
    },
    {
     "data": {
      "text/plain": [
       "<keras.src.callbacks.History at 0x781b19ce3a00>"
      ]
     },
     "execution_count": 5,
     "metadata": {},
     "output_type": "execute_result"
    }
   ],
   "source": [
    "import tensorflow as tf\n",
    "from tensorflow.keras.models import Sequential\n",
    "from tensorflow.keras.layers import Dense, Dropout\n",
    "from sklearn.model_selection import KFold\n",
    "from sklearn.metrics import precision_score, recall_score\n",
    "\n",
    "# Check for GPU availability\n",
    "if tf.test.gpu_device_name():\n",
    "    print('Default GPU Device: {}'.format(tf.test.gpu_device_name()))\n",
    "else:\n",
    "    print(\"Please install GPU version of TF\")\n",
    "\n",
    "# Your existing model definition\n",
    "model = Sequential([\n",
    "    Dense(64, activation='relu', input_shape=(X_train.shape[1],)),\n",
    "    Dropout(0.5),\n",
    "    Dense(32, activation='relu'),\n",
    "    Dropout(0.5),\n",
    "    Dense(16, activation='relu'),\n",
    "    Dense(1, activation='sigmoid')\n",
    "])\n",
    "\n",
    "# Compile the model\n",
    "model.compile(optimizer='adam',\n",
    "              loss='binary_crossentropy',\n",
    "              metrics=['accuracy'])\n",
    "\n",
    "# Early Stopping and Model Checkpoint\n",
    "es = tf.keras.callbacks.EarlyStopping(monitor='val_loss', mode='min', patience=10, verbose=1)\n",
    "mc = tf.keras.callbacks.ModelCheckpoint(\"best_model.h5\", monitor='val_loss', mode='min', save_best_only=True, verbose=1)\n",
    "\n",
    "# Train the model\n",
    "model.fit(\n",
    "    X_train, y_train,\n",
    "    validation_split=0.3,\n",
    "    batch_size=64,\n",
    "    callbacks=[es, mc],\n",
    "    epochs=3\n",
    ")\n"
   ]
  },
  {
   "cell_type": "code",
   "execution_count": 6,
   "id": "ebde7dd8",
   "metadata": {
    "execution": {
     "iopub.execute_input": "2023-12-06T01:52:28.071521Z",
     "iopub.status.busy": "2023-12-06T01:52:28.070792Z",
     "iopub.status.idle": "2023-12-06T02:15:51.698373Z",
     "shell.execute_reply": "2023-12-06T02:15:51.697443Z"
    },
    "papermill": {
     "duration": 1408.810087,
     "end_time": "2023-12-06T02:15:55.027700",
     "exception": false,
     "start_time": "2023-12-06T01:52:26.217613",
     "status": "completed"
    },
    "tags": []
   },
   "outputs": [
    {
     "name": "stdout",
     "output_type": "stream",
     "text": [
      "Epoch 1/3\n",
      "115187/115199 [============================>.] - ETA: 0s - loss: 0.1597 - accuracy: 0.9424\n",
      "Epoch 1: val_loss did not improve from 0.14690\n",
      "115199/115199 [==============================] - 468s 4ms/step - loss: 0.1597 - accuracy: 0.9424 - val_loss: 0.1505 - val_accuracy: 0.9497\n",
      "Epoch 2/3\n",
      "115191/115199 [============================>.] - ETA: 0s - loss: 0.1582 - accuracy: 0.9431\n",
      "Epoch 2: val_loss did not improve from 0.14690\n",
      "115199/115199 [==============================] - 467s 4ms/step - loss: 0.1582 - accuracy: 0.9431 - val_loss: 0.1501 - val_accuracy: 0.9465\n",
      "Epoch 3/3\n",
      "115189/115199 [============================>.] - ETA: 0s - loss: 0.1573 - accuracy: 0.9436\n",
      "Epoch 3: val_loss did not improve from 0.14690\n",
      "115199/115199 [==============================] - 466s 4ms/step - loss: 0.1573 - accuracy: 0.9436 - val_loss: 0.1501 - val_accuracy: 0.9485\n"
     ]
    },
    {
     "data": {
      "image/png": "[encoded data removed]",
      "text/plain": [
       "<Figure size 1200x400 with 2 Axes>"
      ]
     },
     "metadata": {},
     "output_type": "display_data"
    }
   ],
   "source": [
    "import matplotlib.pyplot as plt\n",
    "\n",
    "history = model.fit(\n",
    "    X_train, y_train,\n",
    "    validation_split=0.3,\n",
    "    batch_size=64,\n",
    "    callbacks=[es, mc],\n",
    "    epochs=3\n",
    ")\n",
    "plt.figure(figsize=(12, 4))\n",
    "plt.subplot(1, 2, 1)\n",
    "plt.plot(history.history['accuracy'])\n",
    "plt.plot(history.history['val_accuracy'])\n",
    "plt.title('Model Accuracy')\n",
    "plt.ylabel('Accuracy')\n",
    "plt.xlabel('Epoch')\n",
    "plt.legend(['Train', 'Validation'], loc='upper left')\n",
    "\n",
    "plt.subplot(1, 2, 2)\n",
    "plt.plot(history.history['loss'])\n",
    "plt.plot(history.history['val_loss'])\n",
    "plt.title('Model Loss')\n",
    "plt.ylabel('Loss')\n",
    "plt.xlabel('Epoch')\n",
    "plt.legend(['Train', 'Validation'], loc='upper left')\n",
    "\n",
    "plt.show()\n"
   ]
  },
  {
   "cell_type": "code",
   "execution_count": null,
   "id": "a572ed94",
   "metadata": {
    "execution": {
     "iopub.execute_input": "2023-12-05T22:26:26.085211Z",
     "iopub.status.busy": "2023-12-05T22:26:26.084558Z",
     "iopub.status.idle": "2023-12-05T22:26:28.179132Z",
     "shell.execute_reply": "2023-12-05T22:26:28.178061Z",
     "shell.execute_reply.started": "2023-12-05T22:26:26.085180Z"
    },
    "papermill": {
     "duration": 3.671243,
     "end_time": "2023-12-06T02:16:02.421430",
     "exception": false,
     "start_time": "2023-12-06T02:15:58.750187",
     "status": "completed"
    },
    "tags": []
   },
   "outputs": [],
   "source": []
  },
  {
   "cell_type": "code",
   "execution_count": null,
   "id": "4b3de826",
   "metadata": {
    "papermill": {
     "duration": 3.624061,
     "end_time": "2023-12-06T02:16:09.760958",
     "exception": false,
     "start_time": "2023-12-06T02:16:06.136897",
     "status": "completed"
    },
    "tags": []
   },
   "outputs": [],
   "source": []
  }
 ],
 "metadata": {
  "kaggle": {
   "accelerator": "gpu",
   "dataSources": [
    {
     "datasetId": 4114604,
     "sourceId": 7131531,
     "sourceType": "datasetVersion"
    },
    {
     "datasetId": 4114697,
     "sourceId": 7131660,
     "sourceType": "datasetVersion"
    }
   ],
   "dockerImageVersionId": 30588,
   "isGpuEnabled": true,
   "isInternetEnabled": true,
   "language": "python",
   "sourceType": "notebook"
  },
  "kernelspec": {
   "display_name": "Python 3",
   "language": "python",
   "name": "python3"
  },
  "language_info": {
   "codemirror_mode": {
    "name": "ipython",
    "version": 3
   },
   "file_extension": ".py",
   "mimetype": "text/x-python",
   "name": "python",
   "nbconvert_exporter": "python",
   "pygments_lexer": "ipython3",
   "version": "3.10.12"
  },
  "papermill": {
   "default_parameters": {},
   "duration": 3132.581657,
   "end_time": "2023-12-06T02:16:16.699726",
   "environment_variables": {},
   "exception": null,
   "input_path": "__notebook__.ipynb",
   "output_path": "__notebook__.ipynb",
   "parameters": {},
   "start_time": "2023-12-06T01:24:04.118069",
   "version": "2.4.0"
  }
 },
 "nbformat": 4,
 "nbformat_minor": 5
}
